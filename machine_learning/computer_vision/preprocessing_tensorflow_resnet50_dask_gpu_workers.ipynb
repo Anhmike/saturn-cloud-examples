{
 "cells": [
  {
   "cell_type": "code",
   "execution_count": null,
   "metadata": {},
   "outputs": [],
   "source": [
    "import tarfile\n",
    "from tensorflow.keras.preprocessing import image\n",
    "import wget\n",
    "import os\n",
    "\n",
    "NUM_TARS = 16\n",
    "urls = ['https://s3.amazonaws.com/google-landmark/train/images_{0:03}.tar'.format(i) for i in range(NUM_TARS)]\n",
    "for url in urls:\n",
    "    wget.download(url)\n",
    "\n",
    "image_count = 0\n",
    "tars = ['images_{0:03}.tar'.format(i) for i in range(NUM_TARS)]\n",
    "for tar_file in tars:\n",
    "    tar = tarfile.open(tar_file)\n",
    "    members = tar.getmembers()\n",
    "    for mem in members:\n",
    "        im = image.load_img(tar.extractfile(mem), target_size=(224, 224))\n",
    "        im.save('{0:08}.jpg'.format(image_count))\n",
    "        image_count+=1\n",
    "\n",
    "os.system('s3 cp *jpg glandmarks/224-dataset/')"
   ]
  }
 ],
 "metadata": {
  "kernelspec": {
   "display_name": "Python 3",
   "language": "python",
   "name": "python3"
  },
  "language_info": {
   "codemirror_mode": {
    "name": "ipython",
    "version": 3
   },
   "file_extension": ".py",
   "mimetype": "text/x-python",
   "name": "python",
   "nbconvert_exporter": "python",
   "pygments_lexer": "ipython3",
   "version": "3.7.7"
  }
 },
 "nbformat": 4,
 "nbformat_minor": 4
}
