{
 "cells": [
  {
   "cell_type": "code",
   "execution_count": 1,
   "metadata": {},
   "outputs": [],
   "source": [
    "import dask\n",
    "from dask.distributed import Client\n",
    "import dask.dataframe as dd\n",
    "import tensorflow as tf\n",
    "import pandas as pd\n",
    "\n",
    "#change this to your Saturn Dask Cluster URL\n",
    "SATURN_DASK_CLUSTER_URL = ''\n",
    "\n",
    "client = Client(SATURN_DASK_CLUSTER_URL)"
   ]
  },
  {
   "cell_type": "code",
   "execution_count": 3,
   "metadata": {},
   "outputs": [
    {
     "name": "stderr",
     "output_type": "stream",
     "text": [
      "distributed.comm.tcp - WARNING - Closing dangling stream in <TCP  local=tcp://127.0.0.1:41958 remote=tcp://127.0.0.1:42671>\n",
      "distributed.comm.tcp - WARNING - Closing dangling stream in <TCP  local=tcp://127.0.0.1:41978 remote=tcp://127.0.0.1:42671>\n",
      "distributed.comm.tcp - WARNING - Closing dangling stream in <TCP  local=tcp://127.0.0.1:41982 remote=tcp://127.0.0.1:42671>\n",
      "distributed.comm.tcp - WARNING - Closing dangling stream in <TCP  local=tcp://127.0.0.1:41984 remote=tcp://127.0.0.1:42671>\n"
     ]
    },
    {
     "name": "stdout",
     "output_type": "stream",
     "text": [
      "CPU times: user 27.9 s, sys: 32.4 s, total: 1min\n",
      "Wall time: 3min 50s\n"
     ]
    }
   ],
   "source": [
    "%%time\n",
    "#ETL\n",
    "cols = ['Trip_Pickup_DateTime','Trip_Dropoff_DateTime','Passenger_Count','Trip_Distance','Start_Lon','Start_Lat','End_Lon','End_Lat','Fare_Amt','Tip_Amt','Total_Amt']\n",
    "\n",
    "df = dd.read_csv('s3://nyc-tlc/trip data/yellow_tripdata_2009-*.csv', usecols=cols, storage_options={'anon': True})\n",
    "df.head()\n",
    "\n",
    "# filter wrong columns\n",
    "query_frags = [\n",
    "    'Fare_Amt > 0 and Fare_Amt < 500',\n",
    "    'Passenger_Count > 0 and Passenger_Count < 6',\n",
    "    'Start_Lon > -75 and Start_Lon < -73',\n",
    "    'End_Lon > -75 and End_Lon < -73',\n",
    "    'Start_Lat\t > 40 and Start_Lat < 42',\n",
    "    'End_Lat > 40 and End_Lat < 42'\n",
    "]\n",
    "\n",
    "df = df.query(' and '.join(query_frags))\n",
    "\n",
    "df['Trip_Pickup_DateTime'] = df['Trip_Pickup_DateTime'].astype('datetime64[ns]')\n",
    "df['Trip_Dropoff_DateTime'] = df['Trip_Dropoff_DateTime'].astype('datetime64[ns]')\n",
    "df['Trip_Pickup_DateTime'] = df['Trip_Pickup_DateTime'].apply(lambda x: x.day, meta=('Trip_Dropoff_DateTime', 'int64'))\n",
    "df['Trip_Dropoff_DateTime'] = df['Trip_Dropoff_DateTime'].apply(lambda x: x.day, meta=('Trip_Dropoff_DateTime', 'int64'))\n",
    "\n",
    "df = df.compute()"
   ]
  },
  {
   "cell_type": "code",
   "execution_count": 4,
   "metadata": {},
   "outputs": [
    {
     "name": "stdout",
     "output_type": "stream",
     "text": [
      "Model: \"sequential\"\n",
      "_________________________________________________________________\n",
      "Layer (type)                 Output Shape              Param #   \n",
      "=================================================================\n",
      "dense (Dense)                (None, 8)                 88        \n",
      "_________________________________________________________________\n",
      "dense_1 (Dense)              (None, 16)                144       \n",
      "_________________________________________________________________\n",
      "dense_2 (Dense)              (None, 16)                272       \n",
      "_________________________________________________________________\n",
      "dense_3 (Dense)              (None, 8)                 136       \n",
      "_________________________________________________________________\n",
      "dense_4 (Dense)              (None, 1)                 9         \n",
      "=================================================================\n",
      "Total params: 649\n",
      "Trainable params: 649\n",
      "Non-trainable params: 0\n",
      "_________________________________________________________________\n"
     ]
    }
   ],
   "source": [
    "not_fare_cols = [col for col in df.columns if col not in ['Fare_Amt']]\n",
    "\n",
    "def build_model():\n",
    "    model = tf.keras.Sequential([\n",
    "        tf.keras.layers.Dense(8, activation='relu', input_shape=[len(df[not_fare_cols].keys())]),\n",
    "        tf.keras.layers.Dense(16, activation='relu'),\n",
    "        tf.keras.layers.Dense(16, activation='relu'),\n",
    "        tf.keras.layers.Dense(8, activation='relu'),\n",
    "        tf.keras.layers.Dense(1)\n",
    "        \n",
    "    ])\n",
    "    optimizer = tf.keras.optimizers.Adam()\n",
    "    model.compile(loss='mse',\n",
    "                optimizer=optimizer,\n",
    "                metrics=['mae', 'mse'])\n",
    "    return model\n",
    "\n",
    "\n",
    "model = build_model()\n",
    "model.summary()"
   ]
  },
  {
   "cell_type": "code",
   "execution_count": 5,
   "metadata": {},
   "outputs": [
    {
     "name": "stdout",
     "output_type": "stream",
     "text": [
      "Train on 125990835 samples, validate on 41996945 samples\n",
      "Epoch 1/5\n",
      "125990835/125990835 [==============================] - 564s 4us/sample - loss: 0.5257 - mae: 0.3383 - mse: 0.5257 - val_loss: 0.8135 - val_mae: 0.5622 - val_mse: 0.8135\n",
      "Epoch 2/5\n",
      "125990835/125990835 [==============================] - 554s 4us/sample - loss: 0.4924 - mae: 0.3259 - mse: 0.4924 - val_loss: 0.8323 - val_mae: 0.5852 - val_mse: 0.8323\n",
      "Epoch 3/5\n",
      "125990835/125990835 [==============================] - 554s 4us/sample - loss: 0.4864 - mae: 0.3225 - mse: 0.4864 - val_loss: 0.7751 - val_mae: 0.5438 - val_mse: 0.7751\n",
      "Epoch 4/5\n",
      "125990835/125990835 [==============================] - 554s 4us/sample - loss: 0.4828 - mae: 0.3208 - mse: 0.4828 - val_loss: 0.7608 - val_mae: 0.5311 - val_mse: 0.7608\n",
      "Epoch 5/5\n",
      "125990835/125990835 [==============================] - 554s 4us/sample - loss: 0.4813 - mae: 0.3203 - mse: 0.4813 - val_loss: 0.7457 - val_mae: 0.5046 - val_mse: 0.7457\n",
      "CPU times: user 1h 21min 50s, sys: 14min 7s, total: 1h 35min 58s\n",
      "Wall time: 46min 42s\n"
     ]
    },
    {
     "data": {
      "text/html": [
       "<div>\n",
       "<style scoped>\n",
       "    .dataframe tbody tr th:only-of-type {\n",
       "        vertical-align: middle;\n",
       "    }\n",
       "\n",
       "    .dataframe tbody tr th {\n",
       "        vertical-align: top;\n",
       "    }\n",
       "\n",
       "    .dataframe thead th {\n",
       "        text-align: right;\n",
       "    }\n",
       "</style>\n",
       "<table border=\"1\" class=\"dataframe\">\n",
       "  <thead>\n",
       "    <tr style=\"text-align: right;\">\n",
       "      <th></th>\n",
       "      <th>loss</th>\n",
       "      <th>mae</th>\n",
       "      <th>mse</th>\n",
       "      <th>val_loss</th>\n",
       "      <th>val_mae</th>\n",
       "      <th>val_mse</th>\n",
       "      <th>epoch</th>\n",
       "    </tr>\n",
       "  </thead>\n",
       "  <tbody>\n",
       "    <tr>\n",
       "      <th>0</th>\n",
       "      <td>0.525740</td>\n",
       "      <td>0.338347</td>\n",
       "      <td>0.525741</td>\n",
       "      <td>0.813508</td>\n",
       "      <td>0.562216</td>\n",
       "      <td>0.813509</td>\n",
       "      <td>0</td>\n",
       "    </tr>\n",
       "    <tr>\n",
       "      <th>1</th>\n",
       "      <td>0.492372</td>\n",
       "      <td>0.325925</td>\n",
       "      <td>0.492371</td>\n",
       "      <td>0.832268</td>\n",
       "      <td>0.585209</td>\n",
       "      <td>0.832272</td>\n",
       "      <td>1</td>\n",
       "    </tr>\n",
       "    <tr>\n",
       "      <th>2</th>\n",
       "      <td>0.486419</td>\n",
       "      <td>0.322531</td>\n",
       "      <td>0.486414</td>\n",
       "      <td>0.775081</td>\n",
       "      <td>0.543843</td>\n",
       "      <td>0.775082</td>\n",
       "      <td>2</td>\n",
       "    </tr>\n",
       "    <tr>\n",
       "      <th>3</th>\n",
       "      <td>0.482775</td>\n",
       "      <td>0.320812</td>\n",
       "      <td>0.482772</td>\n",
       "      <td>0.760801</td>\n",
       "      <td>0.531075</td>\n",
       "      <td>0.760802</td>\n",
       "      <td>3</td>\n",
       "    </tr>\n",
       "    <tr>\n",
       "      <th>4</th>\n",
       "      <td>0.481329</td>\n",
       "      <td>0.320313</td>\n",
       "      <td>0.481334</td>\n",
       "      <td>0.745706</td>\n",
       "      <td>0.504571</td>\n",
       "      <td>0.745705</td>\n",
       "      <td>4</td>\n",
       "    </tr>\n",
       "  </tbody>\n",
       "</table>\n",
       "</div>"
      ],
      "text/plain": [
       "       loss       mae       mse  val_loss   val_mae   val_mse  epoch\n",
       "0  0.525740  0.338347  0.525741  0.813508  0.562216  0.813509      0\n",
       "1  0.492372  0.325925  0.492371  0.832268  0.585209  0.832272      1\n",
       "2  0.486419  0.322531  0.486414  0.775081  0.543843  0.775082      2\n",
       "3  0.482775  0.320812  0.482772  0.760801  0.531075  0.760802      3\n",
       "4  0.481329  0.320313  0.481334  0.745706  0.504571  0.745705      4"
      ]
     },
     "execution_count": 5,
     "metadata": {},
     "output_type": "execute_result"
    }
   ],
   "source": [
    "%%time\n",
    "train = df[not_fare_cols].to_numpy()\n",
    "labels =  df['Fare_Amt'].to_numpy()\n",
    "\n",
    "EPOCHS = 5\n",
    "history = model.fit(\n",
    "  train, labels, batch_size=512, validation_split=0.25, shuffle=True,\n",
    "  epochs=EPOCHS)\n",
    "\n",
    "hist = pd.DataFrame(history.history)\n",
    "hist['epoch'] = history.epoch\n",
    "hist.tail()"
   ]
  }
 ],
 "metadata": {
  "kernelspec": {
   "display_name": "Python 3",
   "language": "python",
   "name": "python3"
  },
  "language_info": {
   "codemirror_mode": {
    "name": "ipython",
    "version": 3
   },
   "file_extension": ".py",
   "mimetype": "text/x-python",
   "name": "python",
   "nbconvert_exporter": "python",
   "pygments_lexer": "ipython3",
   "version": "3.7.6"
  }
 },
 "nbformat": 4,
 "nbformat_minor": 4
}
