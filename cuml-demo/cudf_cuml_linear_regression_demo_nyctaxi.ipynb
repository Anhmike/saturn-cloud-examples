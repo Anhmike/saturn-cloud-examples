{
 "cells": [
  {
   "cell_type": "code",
   "execution_count": 1,
   "metadata": {},
   "outputs": [],
   "source": [
    "import cudf\n",
    "from cuml import train_test_split\n",
    "from sklearn.datasets import make_regression\n",
    "import pandas as pd\n",
    "from cuml.linear_model import LinearRegression as cuLinearRegression\n",
    "from sklearn.metrics import r2_score\n",
    "from dask.distributed import Client\n",
    "import dask.dataframe as dd\n",
    "import numpy as np\n",
    "\n",
    "#change this to your Saturn Dask Cluster URL\n",
    "SATURN_DASK_CLUSTER_URL = ''\n",
    "\n",
    "client = Client(SATURN_DASK_CLUSTER_URL)\n",
    "client"
   ]
  },
  {
   "cell_type": "code",
   "execution_count": 3,
   "metadata": {},
   "outputs": [
    {
     "name": "stdout",
     "output_type": "stream",
     "text": [
      "CPU times: user 4.36 s, sys: 2.74 s, total: 7.1 s\n",
      "Wall time: 1min 6s\n"
     ]
    }
   ],
   "source": [
    "%%time\n",
    "\n",
    "cols = ['Trip_Pickup_DateTime', 'Trip_Dropoff_DateTime', 'Passenger_Count', 'Trip_Distance', 'Start_Lon',\n",
    "        'Start_Lat', 'End_Lon', 'End_Lat', 'Fare_Amt', 'Tip_Amt', 'Total_Amt']\n",
    "df = dd.read_csv('s3://nyc-tlc/trip data/yellow_tripdata_2009-01.csv', usecols=cols, storage_options={'anon': True})\n",
    "# filter wrong values in columns\n",
    "query_frags = [\n",
    "    'Fare_Amt > 0 and Fare_Amt < 500',\n",
    "    'Passenger_Count > 0 and Passenger_Count < 6',\n",
    "    'Start_Lon > -75 and Start_Lon < -73',\n",
    "    'End_Lon > -75 and End_Lon < -73',\n",
    "    'Start_Lat\t> 40 and Start_Lat < 42',\n",
    "    'End_Lat > 40 and End_Lat < 42'\n",
    "]\n",
    "\n",
    "df = df.query(' and '.join(query_frags))\n",
    "\n",
    "df['Trip_Pickup_DateTime'] = df['Trip_Pickup_DateTime'].astype('datetime64[ns]')\n",
    "df['Trip_Dropoff_DateTime'] = df['Trip_Dropoff_DateTime'].astype('datetime64[ns]')\n",
    "df['Trip_Pickup_DateTime'] = df['Trip_Pickup_DateTime'].apply(lambda x: x.day, meta=('Trip_Dropoff_DateTime', 'int64'))\n",
    "df['Trip_Dropoff_DateTime'] = df['Trip_Dropoff_DateTime'].apply(lambda x: x.day, meta=('Trip_Dropoff_DateTime', 'int64'))\n",
    "\n",
    "df = df.compute()"
   ]
  },
  {
   "cell_type": "code",
   "execution_count": 4,
   "metadata": {},
   "outputs": [],
   "source": [
    "not_fare_cols = [col for col in df.columns if col not in ['Fare_Amt']]\n",
    "\n",
    "\n",
    "X = df[not_fare_cols]\n",
    "y = pd.DataFrame(df['Fare_Amt']) # build this as a Pandas dataframe\n",
    "\n",
    "X = cudf.DataFrame.from_pandas(X)\n",
    "y = cudf.DataFrame.from_pandas(y)\n",
    "\n",
    "X_cudf, X_cudf_test, y_cudf, y_cudf_test = train_test_split(X, y)\n",
    "\n",
    "#y_cudf_test = y_cudf_test['Fare_Amt']"
   ]
  },
  {
   "cell_type": "code",
   "execution_count": 5,
   "metadata": {},
   "outputs": [
    {
     "data": {
      "text/plain": [
       "cudf.core.dataframe.DataFrame"
      ]
     },
     "execution_count": 5,
     "metadata": {},
     "output_type": "execute_result"
    }
   ],
   "source": [
    "type(y_cudf_test)"
   ]
  },
  {
   "cell_type": "code",
   "execution_count": 6,
   "metadata": {},
   "outputs": [],
   "source": [
    "# Copy dataset from GPU memory to host memory.\n",
    "# This is done to later compare CPU and GPU results.\n",
    "\n",
    "#X_train = X_cudf.to_pandas()\n",
    "#X_test = X_cudf_test.to_pandas()\n",
    "#y_train = y_cudf.to_pandas()\n",
    "#y_test = y_cudf_test.to_pandas()"
   ]
  },
  {
   "cell_type": "markdown",
   "metadata": {},
   "source": [
    "## cuML Model"
   ]
  },
  {
   "cell_type": "markdown",
   "metadata": {},
   "source": [
    "### Fit, predict and evaluate"
   ]
  },
  {
   "cell_type": "code",
   "execution_count": 7,
   "metadata": {},
   "outputs": [
    {
     "name": "stdout",
     "output_type": "stream",
     "text": [
      "CPU times: user 1.06 s, sys: 381 ms, total: 1.44 s\n",
      "Wall time: 1.42 s\n"
     ]
    },
    {
     "data": {
      "text/plain": [
       "LinearRegression(algorithm='eig', fit_intercept=True, normalize=True, handle=<cuml.common.handle.Handle object at 0x7f23a82803f0>)"
      ]
     },
     "execution_count": 7,
     "metadata": {},
     "output_type": "execute_result"
    }
   ],
   "source": [
    "%%time\n",
    "ols_cuml = cuLinearRegression(fit_intercept=True,\n",
    "                              normalize=True,\n",
    "                              algorithm='eig')\n",
    "\n",
    "ols_cuml.fit(X_cudf, y_cudf)"
   ]
  },
  {
   "cell_type": "code",
   "execution_count": 8,
   "metadata": {},
   "outputs": [
    {
     "name": "stdout",
     "output_type": "stream",
     "text": [
      "CPU times: user 10.6 ms, sys: 12.2 ms, total: 22.7 ms\n",
      "Wall time: 21.5 ms\n"
     ]
    }
   ],
   "source": [
    "%%time\n",
    "predict_cuml = ols_cuml.predict(X_cudf_test)"
   ]
  },
  {
   "cell_type": "code",
   "execution_count": 9,
   "metadata": {},
   "outputs": [
    {
     "name": "stdout",
     "output_type": "stream",
     "text": [
      "CPU times: user 45.9 ms, sys: 6.57 ms, total: 52.5 ms\n",
      "Wall time: 51.2 ms\n"
     ]
    }
   ],
   "source": [
    "%%time\n",
    "\n",
    "r2_score_cuml = r2_score(y_cudf_test.to_pandas(), predict_cuml.to_pandas())"
   ]
  },
  {
   "cell_type": "markdown",
   "metadata": {},
   "source": [
    "## See Results"
   ]
  },
  {
   "cell_type": "code",
   "execution_count": 10,
   "metadata": {},
   "outputs": [
    {
     "name": "stdout",
     "output_type": "stream",
     "text": [
      "R^2 score : 0.9879075387667043\n"
     ]
    }
   ],
   "source": [
    "print(\"R^2 score : %s\" % r2_score_cuml)"
   ]
  }
 ],
 "metadata": {
  "kernelspec": {
   "display_name": "Python 3",
   "language": "python",
   "name": "python3"
  },
  "language_info": {
   "codemirror_mode": {
    "name": "ipython",
    "version": 3
   },
   "file_extension": ".py",
   "mimetype": "text/x-python",
   "name": "python",
   "nbconvert_exporter": "python",
   "pygments_lexer": "ipython3",
   "version": "3.7.6"
  },
  "pycharm": {
   "stem_cell": {
    "cell_type": "raw",
    "metadata": {
     "collapsed": false
    },
    "source": []
   }
  }
 },
 "nbformat": 4,
 "nbformat_minor": 4
}
