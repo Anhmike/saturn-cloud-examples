{
 "cells": [
  {
   "cell_type": "code",
   "execution_count": 1,
   "metadata": {},
   "outputs": [],
   "source": [
    "import matplotlib\n",
    "matplotlib.use('Agg')  # plotting backend compatible with screen\n",
    "import sys\n",
    "import scanpy as sc\n",
    "\n",
    "import six\n",
    "import numba\n",
    "import collections\n",
    "import matplotlib\n",
    "import matplotlib.pyplot as plt\n",
    "import numpy as np\n",
    "import pandas as pd\n",
    "import scipy.sparse as sp_sparse\n",
    "import tables\n",
    "import pickle\n",
    "\n",
    "sc.settings.verbosity = 2  # show logging output\n",
    "sc.settings.autosave = True  # save figures, do not show them\n",
    "sc.settings.set_figure_params(dpi=400)  # set sufficiently high resolution for saving"
   ]
  },
  {
   "cell_type": "markdown",
   "metadata": {},
   "source": [
    "# Load data"
   ]
  },
  {
   "cell_type": "code",
   "execution_count": null,
   "metadata": {},
   "outputs": [],
   "source": [
    "! wget --no-check-certificate https://s3-us-west-2.amazonaws.com/10x.files/samples/cell/1M_neurons/1M_neurons_filtered_gene_bc_matrices_h5.h5"
   ]
  },
  {
   "cell_type": "code",
   "execution_count": 27,
   "metadata": {},
   "outputs": [
    {
     "name": "stdout",
     "output_type": "stream",
     "text": [
      "reading 1M_neurons_filtered_gene_bc_matrices_h5.h5\n"
     ]
    },
    {
     "name": "stderr",
     "output_type": "stream",
     "text": [
      "Variable names are not unique. To make them unique, call `.var_names_make_unique`.\n"
     ]
    },
    {
     "name": "stdout",
     "output_type": "stream",
     "text": [
      " (0:01:29)\n"
     ]
    }
   ],
   "source": [
    "adata_full = sc.read_10x_h5('1M_neurons_filtered_gene_bc_matrices_h5.h5')"
   ]
  },
  {
   "cell_type": "markdown",
   "metadata": {},
   "source": [
    "# Scanpy pipeline runtime on CPU ~33min "
   ]
  },
  {
   "cell_type": "code",
   "execution_count": 4,
   "metadata": {},
   "outputs": [],
   "source": [
    "# function to run recipes, generate plots, using the CPU (not leveraging the GPU)\n",
    "\n",
    "def basic_analysis_cpugraph(anndata_object):\n",
    "    sc.pp.subsample(anndata_object, fraction=0.5)\n",
    "    sc.pp.recipe_zheng17(anndata_object)\n",
    "    sc.pp.neighbors(anndata_object)\n",
    "    sc.tl.louvain(anndata_object)\n",
    "    sc.tl.umap(anndata_object)\n",
    "    sc.tl.rank_genes_groups(anndata_object, 'louvain')\n",
    "    sc.pl.rank_genes_groups(anndata_object, save='_130K.pdf')"
   ]
  },
  {
   "cell_type": "code",
   "execution_count": 5,
   "metadata": {},
   "outputs": [
    {
     "name": "stderr",
     "output_type": "stream",
     "text": [
      "Variable names are not unique. To make them unique, call `.var_names_make_unique`.\n",
      "Variable names are not unique. To make them unique, call `.var_names_make_unique`.\n"
     ]
    },
    {
     "name": "stdout",
     "output_type": "stream",
     "text": [
      "running recipe zheng17\n",
      "filtered out 4536 genes that are detected in less than 1 counts\n"
     ]
    },
    {
     "name": "stderr",
     "output_type": "stream",
     "text": [
      "Variable names are not unique. To make them unique, call `.var_names_make_unique`.\n",
      "Variable names are not unique. To make them unique, call `.var_names_make_unique`.\n"
     ]
    },
    {
     "name": "stdout",
     "output_type": "stream",
     "text": [
      "normalizing counts per cell\n",
      "    finished (0:00:05)\n",
      "extracting highly variable genes\n",
      "    finished (0:00:05)\n",
      "normalizing counts per cell\n",
      "    finished (0:00:00)\n",
      "... as `zero_center=True`, sparse input is densified and may lead to large memory consumption\n",
      "    finished (0:00:36)\n",
      "computing neighbors\n",
      "WARNING: You’re trying to run this on 1000 dimensions of `.X`, if you really want this, set `use_rep='X'`.\n",
      "         Falling back to preprocessing with `sc.pp.pca` and default params.\n",
      "computing PCA\n",
      "    with n_comps=50\n",
      "    finished (0:00:14)\n",
      "    finished (0:09:35)\n",
      "running Louvain clustering\n",
      "    using the \"louvain\" package of Traag (2017)\n",
      "    finished (0:05:06)\n",
      "computing UMAP\n",
      "    finished (0:15:48)\n",
      "ranking genes\n"
     ]
    },
    {
     "name": "stderr",
     "output_type": "stream",
     "text": [
      "/home/jovyan/.local/lib/python3.7/site-packages/scanpy/tools/_rank_genes_groups.py:252: RuntimeWarning: invalid value encountered in log2\n",
      "  rankings_gene_logfoldchanges.append(np.log2(foldchanges[global_indices]))\n"
     ]
    },
    {
     "name": "stdout",
     "output_type": "stream",
     "text": [
      "    finished (0:01:33)\n",
      "WARNING: saving figure to file figures/umap_130K.png\n",
      "WARNING: saving figure to file figures/rank_genes_groups_louvain_130K.pdf\n",
      "CPU times: user 43min 36s, sys: 1min 14s, total: 44min 51s\n",
      "Wall time: 33min 11s\n"
     ]
    }
   ],
   "source": [
    "%%time \n",
    "\n",
    "basic_analysis_cpugraph(adata_full)"
   ]
  },
  {
   "cell_type": "markdown",
   "metadata": {},
   "source": [
    "# Scanpy pipeline runtime on GPU ~7min "
   ]
  },
  {
   "cell_type": "code",
   "execution_count": null,
   "metadata": {},
   "outputs": [],
   "source": [
    "# read in data again, scanpy pipeline alters the anndata object \n",
    "\n",
    "adata_full = sc.read_10x_h5('1M_neurons_filtered_gene_bc_matrices_h5.h5')"
   ]
  },
  {
   "cell_type": "code",
   "execution_count": 9,
   "metadata": {},
   "outputs": [],
   "source": [
    "# function to run recipes, generate plots, using our GPU\n",
    "\n",
    "def basic_analysis_gpugraph(anndata_object):\n",
    "    sc.pp.subsample(anndata_object, fraction=0.5)\n",
    "    sc.pp.recipe_zheng17(anndata_object)\n",
    "    sc.pp.neighbors(anndata_object, method='rapids')\n",
    "    sc.tl.louvain(anndata_object, flavor='rapids')\n",
    "    sc.tl.umap(anndata_object, method='rapids')\n",
    "    sc.tl.rank_genes_groups(anndata_object, 'louvain') \n",
    "    sc.pl.umap(anndata_object, color='louvain', save='_130K.png')\n",
    "    sc.pl.rank_genes_groups(anndata_object, save='_130K.pdf')"
   ]
  },
  {
   "cell_type": "code",
   "execution_count": 11,
   "metadata": {},
   "outputs": [
    {
     "name": "stderr",
     "output_type": "stream",
     "text": [
      "Variable names are not unique. To make them unique, call `.var_names_make_unique`.\n",
      "Variable names are not unique. To make them unique, call `.var_names_make_unique`.\n"
     ]
    },
    {
     "name": "stdout",
     "output_type": "stream",
     "text": [
      "running recipe zheng17\n",
      "filtered out 4536 genes that are detected in less than 1 counts\n"
     ]
    },
    {
     "name": "stderr",
     "output_type": "stream",
     "text": [
      "Variable names are not unique. To make them unique, call `.var_names_make_unique`.\n",
      "Variable names are not unique. To make them unique, call `.var_names_make_unique`.\n"
     ]
    },
    {
     "name": "stdout",
     "output_type": "stream",
     "text": [
      "normalizing counts per cell\n",
      "    finished (0:00:05)\n",
      "extracting highly variable genes\n",
      "    finished (0:00:05)\n",
      "normalizing counts per cell\n",
      "    finished (0:00:00)\n",
      "... as `zero_center=True`, sparse input is densified and may lead to large memory consumption\n",
      "    finished (0:00:36)\n",
      "computing neighbors\n",
      "WARNING: You’re trying to run this on 1000 dimensions of `.X`, if you really want this, set `use_rep='X'`.\n",
      "         Falling back to preprocessing with `sc.pp.pca` and default params.\n",
      "computing PCA\n",
      "    with n_comps=50\n",
      "    finished (0:00:13)\n",
      "    finished (0:01:06)\n",
      "running Louvain clustering\n",
      "    using the \"louvain\" package of rapids\n",
      "    finished (0:00:01)\n",
      "computing UMAP\n",
      "WARNING: .obsp[\"connectivities\"] have not been computed using umap\n"
     ]
    },
    {
     "name": "stderr",
     "output_type": "stream",
     "text": [
      "/home/jovyan/.local/lib/python3.7/site-packages/scanpy/tools/_umap.py:197: UserWarning: Parameter should_downcast is deprecated, use convert_dtype in fit, fit_transform and transform  methods instead. \n",
      "  verbose=settings.verbosity > 3,\n",
      "/home/jovyan/.local/lib/python3.7/site-packages/scanpy/tools/_umap.py:199: UserWarning: Parameter should_downcast is deprecated, use convert_dtype in fit, fit_transform and transform  methods instead. \n",
      "  X_umap = umap.fit_transform(X_contiguous)\n"
     ]
    },
    {
     "name": "stdout",
     "output_type": "stream",
     "text": [
      "    finished (0:02:15)\n",
      "ranking genes\n"
     ]
    },
    {
     "name": "stderr",
     "output_type": "stream",
     "text": [
      "/home/jovyan/.local/lib/python3.7/site-packages/scanpy/tools/_rank_genes_groups.py:252: RuntimeWarning: invalid value encountered in log2\n",
      "  rankings_gene_logfoldchanges.append(np.log2(foldchanges[global_indices]))\n"
     ]
    },
    {
     "name": "stdout",
     "output_type": "stream",
     "text": [
      "    finished (0:02:29)\n",
      "WARNING: saving figure to file figures/umap_130K.png\n",
      "WARNING: saving figure to file figures/rank_genes_groups_louvain_130K.pdf\n",
      "CPU times: user 6min 11s, sys: 1min 54s, total: 8min 5s\n",
      "Wall time: 7min 3s\n"
     ]
    }
   ],
   "source": [
    "%%time \n",
    "\n",
    "basic_analysis_gpugraph(adata_full)"
   ]
  },
  {
   "cell_type": "markdown",
   "metadata": {},
   "source": [
    "# running the same scanpy pipeline takes ~30min on CPU vs. ~7min on GPU"
   ]
  }
 ],
 "metadata": {
  "kernelspec": {
   "display_name": "Python 3",
   "language": "python",
   "name": "python3"
  },
  "language_info": {
   "codemirror_mode": {
    "name": "ipython",
    "version": 3
   },
   "file_extension": ".py",
   "mimetype": "text/x-python",
   "name": "python",
   "nbconvert_exporter": "python",
   "pygments_lexer": "ipython3",
   "version": "3.7.1"
  }
 },
 "nbformat": 4,
 "nbformat_minor": 4
}
